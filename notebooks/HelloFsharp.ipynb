{
 "cells": [
  {
   "cell_type": "code",
   "execution_count": 2,
   "id": "22a05348-4eaa-4311-b747-6a5c8754b23a",
   "metadata": {},
   "outputs": [
    {
     "name": "stdout",
     "output_type": "stream",
     "text": [
      "Hello from F#\n"
     ]
    }
   ],
   "source": [
    "printfn \"Hello from F#\""
   ]
  },
  {
   "cell_type": "code",
   "execution_count": null,
   "id": "ecbf3f5c-acda-49bc-beb1-971a8e1f514f",
   "metadata": {},
   "outputs": [],
   "source": []
  }
 ],
 "metadata": {
  "kernelspec": {
   "display_name": ".NET (F#)",
   "language": "F#",
   "name": ".net-fsharp"
  },
  "language_info": {
   "file_extension": ".fs",
   "mimetype": "text/x-fsharp",
   "name": "F#",
   "pygments_lexer": "fsharp",
   "version": "7.0"
  }
 },
 "nbformat": 4,
 "nbformat_minor": 5
}
